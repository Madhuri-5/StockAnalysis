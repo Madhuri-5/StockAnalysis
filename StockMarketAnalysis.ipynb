{
  "nbformat": 4,
  "nbformat_minor": 0,
  "metadata": {
    "colab": {
      "name": "StockMarketAnalysis.ipynb",
      "provenance": [],
      "collapsed_sections": [],
      "include_colab_link": true
    },
    "kernelspec": {
      "name": "python3",
      "display_name": "Python 3"
    }
  },
  "cells": [
    {
      "cell_type": "markdown",
      "metadata": {
        "id": "view-in-github",
        "colab_type": "text"
      },
      "source": [
        "<a href=\"https://colab.research.google.com/github/mrmids/StockAnalysis/blob/Development/StockMarketAnalysis.ipynb\" target=\"_parent\"><img src=\"https://colab.research.google.com/assets/colab-badge.svg\" alt=\"Open In Colab\"/></a>"
      ]
    },
    {
      "cell_type": "code",
      "metadata": {
        "id": "7JBDbv5qkHCV"
      },
      "source": [
        "## Stock Market Analysis\n",
        "## Collaborative project of ITExperience mentees"
      ],
      "execution_count": null,
      "outputs": []
    },
    {
      "cell_type": "code",
      "metadata": {
        "id": "8K-BarlM9r1Y"
      },
      "source": [
        "## Code block for installing libraries that are not available by default\n",
        "## To install, remove the line comment from the code line before running\n",
        "\n",
        "#!pip install yfinance"
      ],
      "execution_count": null,
      "outputs": []
    },
    {
      "cell_type": "code",
      "metadata": {
        "id": "wkSoMs1Q9fOI"
      },
      "source": [
        "## Import needed libraries\n",
        "\n",
        "import pandas as pd\n",
        "import matplotlib.pyplot as plt\n",
        "import yfinance as yf"
      ],
      "execution_count": 4,
      "outputs": []
    },
    {
      "cell_type": "code",
      "metadata": {
        "id": "Qjzsylfs9p8Q",
        "outputId": "74314edb-3d2b-4f21-a874-23f3872a912d",
        "colab": {
          "base_uri": "https://localhost:8080/"
        }
      },
      "source": [
        "## Save ticker symbol of stocks to be analysed. This can be a created using a \n",
        "## csv file of tickers as well\n",
        "\n",
        "tickers = [\"AAPL\",\"AMZN\", \"GOOGL\"]\n",
        "tickers"
      ],
      "execution_count": 21,
      "outputs": [
        {
          "output_type": "execute_result",
          "data": {
            "text/plain": [
              "['AAPL', 'AMZN', 'GOOGL']"
            ]
          },
          "metadata": {
            "tags": []
          },
          "execution_count": 21
        }
      ]
    },
    {
      "cell_type": "code",
      "metadata": {
        "id": "4u27pmrLBn5j",
        "outputId": "bc0007a2-088b-4a2d-b8f9-73372cc7bb20",
        "colab": {
          "base_uri": "https://localhost:8080/"
        }
      },
      "source": [
        "## Load the stock data from Yahoo finance using the YFinance library\n",
        "\n",
        "StockData = yf.download(tickers, start = \"2020-01-01\", end = \"2021-01-15\")"
      ],
      "execution_count": 22,
      "outputs": [
        {
          "output_type": "stream",
          "text": [
            "[*********************100%***********************]  3 of 3 completed\n"
          ],
          "name": "stdout"
        }
      ]
    },
    {
      "cell_type": "code",
      "metadata": {
        "id": "7EkqcmdWCXHA",
        "outputId": "b29b3654-cdd6-450c-9404-09fab555a277",
        "colab": {
          "base_uri": "https://localhost:8080/",
          "height": 351
        }
      },
      "source": [
        "## Preview stock data\n",
        "\n",
        "StockData.head()"
      ],
      "execution_count": 23,
      "outputs": [
        {
          "output_type": "execute_result",
          "data": {
            "text/html": [
              "<div>\n",
              "<style scoped>\n",
              "    .dataframe tbody tr th:only-of-type {\n",
              "        vertical-align: middle;\n",
              "    }\n",
              "\n",
              "    .dataframe tbody tr th {\n",
              "        vertical-align: top;\n",
              "    }\n",
              "\n",
              "    .dataframe thead tr th {\n",
              "        text-align: left;\n",
              "    }\n",
              "\n",
              "    .dataframe thead tr:last-of-type th {\n",
              "        text-align: right;\n",
              "    }\n",
              "</style>\n",
              "<table border=\"1\" class=\"dataframe\">\n",
              "  <thead>\n",
              "    <tr>\n",
              "      <th></th>\n",
              "      <th colspan=\"3\" halign=\"left\">Adj Close</th>\n",
              "      <th colspan=\"3\" halign=\"left\">Close</th>\n",
              "      <th colspan=\"3\" halign=\"left\">High</th>\n",
              "      <th colspan=\"3\" halign=\"left\">Low</th>\n",
              "      <th colspan=\"3\" halign=\"left\">Open</th>\n",
              "      <th colspan=\"3\" halign=\"left\">Volume</th>\n",
              "    </tr>\n",
              "    <tr>\n",
              "      <th></th>\n",
              "      <th>AAPL</th>\n",
              "      <th>AMZN</th>\n",
              "      <th>GOOGL</th>\n",
              "      <th>AAPL</th>\n",
              "      <th>AMZN</th>\n",
              "      <th>GOOGL</th>\n",
              "      <th>AAPL</th>\n",
              "      <th>AMZN</th>\n",
              "      <th>GOOGL</th>\n",
              "      <th>AAPL</th>\n",
              "      <th>AMZN</th>\n",
              "      <th>GOOGL</th>\n",
              "      <th>AAPL</th>\n",
              "      <th>AMZN</th>\n",
              "      <th>GOOGL</th>\n",
              "      <th>AAPL</th>\n",
              "      <th>AMZN</th>\n",
              "      <th>GOOGL</th>\n",
              "    </tr>\n",
              "    <tr>\n",
              "      <th>Date</th>\n",
              "      <th></th>\n",
              "      <th></th>\n",
              "      <th></th>\n",
              "      <th></th>\n",
              "      <th></th>\n",
              "      <th></th>\n",
              "      <th></th>\n",
              "      <th></th>\n",
              "      <th></th>\n",
              "      <th></th>\n",
              "      <th></th>\n",
              "      <th></th>\n",
              "      <th></th>\n",
              "      <th></th>\n",
              "      <th></th>\n",
              "      <th></th>\n",
              "      <th></th>\n",
              "      <th></th>\n",
              "    </tr>\n",
              "  </thead>\n",
              "  <tbody>\n",
              "    <tr>\n",
              "      <th>2020-01-02</th>\n",
              "      <td>74.444603</td>\n",
              "      <td>1898.010010</td>\n",
              "      <td>1368.680054</td>\n",
              "      <td>75.087502</td>\n",
              "      <td>1898.010010</td>\n",
              "      <td>1368.680054</td>\n",
              "      <td>75.150002</td>\n",
              "      <td>1898.010010</td>\n",
              "      <td>1368.680054</td>\n",
              "      <td>73.797501</td>\n",
              "      <td>1864.150024</td>\n",
              "      <td>1346.489990</td>\n",
              "      <td>74.059998</td>\n",
              "      <td>1875.000000</td>\n",
              "      <td>1348.410034</td>\n",
              "      <td>135480400</td>\n",
              "      <td>4029000</td>\n",
              "      <td>1363900</td>\n",
              "    </tr>\n",
              "    <tr>\n",
              "      <th>2020-01-03</th>\n",
              "      <td>73.720840</td>\n",
              "      <td>1874.969971</td>\n",
              "      <td>1361.520020</td>\n",
              "      <td>74.357498</td>\n",
              "      <td>1874.969971</td>\n",
              "      <td>1361.520020</td>\n",
              "      <td>75.144997</td>\n",
              "      <td>1886.199951</td>\n",
              "      <td>1373.750000</td>\n",
              "      <td>74.125000</td>\n",
              "      <td>1864.500000</td>\n",
              "      <td>1347.319946</td>\n",
              "      <td>74.287498</td>\n",
              "      <td>1864.500000</td>\n",
              "      <td>1348.000000</td>\n",
              "      <td>146322800</td>\n",
              "      <td>3764400</td>\n",
              "      <td>1170400</td>\n",
              "    </tr>\n",
              "    <tr>\n",
              "      <th>2020-01-06</th>\n",
              "      <td>74.308266</td>\n",
              "      <td>1902.880005</td>\n",
              "      <td>1397.810059</td>\n",
              "      <td>74.949997</td>\n",
              "      <td>1902.880005</td>\n",
              "      <td>1397.810059</td>\n",
              "      <td>74.989998</td>\n",
              "      <td>1903.689941</td>\n",
              "      <td>1398.319946</td>\n",
              "      <td>73.187500</td>\n",
              "      <td>1860.000000</td>\n",
              "      <td>1351.000000</td>\n",
              "      <td>73.447502</td>\n",
              "      <td>1860.000000</td>\n",
              "      <td>1351.630005</td>\n",
              "      <td>118387200</td>\n",
              "      <td>4061800</td>\n",
              "      <td>2338400</td>\n",
              "    </tr>\n",
              "    <tr>\n",
              "      <th>2020-01-07</th>\n",
              "      <td>73.958794</td>\n",
              "      <td>1906.859985</td>\n",
              "      <td>1395.109985</td>\n",
              "      <td>74.597504</td>\n",
              "      <td>1906.859985</td>\n",
              "      <td>1395.109985</td>\n",
              "      <td>75.224998</td>\n",
              "      <td>1913.890015</td>\n",
              "      <td>1403.500000</td>\n",
              "      <td>74.370003</td>\n",
              "      <td>1892.040039</td>\n",
              "      <td>1391.560059</td>\n",
              "      <td>74.959999</td>\n",
              "      <td>1904.500000</td>\n",
              "      <td>1400.459961</td>\n",
              "      <td>108872000</td>\n",
              "      <td>4044900</td>\n",
              "      <td>1716500</td>\n",
              "    </tr>\n",
              "    <tr>\n",
              "      <th>2020-01-08</th>\n",
              "      <td>75.148521</td>\n",
              "      <td>1891.969971</td>\n",
              "      <td>1405.040039</td>\n",
              "      <td>75.797501</td>\n",
              "      <td>1891.969971</td>\n",
              "      <td>1405.040039</td>\n",
              "      <td>76.110001</td>\n",
              "      <td>1911.000000</td>\n",
              "      <td>1411.849976</td>\n",
              "      <td>74.290001</td>\n",
              "      <td>1886.439941</td>\n",
              "      <td>1392.630005</td>\n",
              "      <td>74.290001</td>\n",
              "      <td>1898.040039</td>\n",
              "      <td>1394.819946</td>\n",
              "      <td>132079200</td>\n",
              "      <td>3508000</td>\n",
              "      <td>1765700</td>\n",
              "    </tr>\n",
              "  </tbody>\n",
              "</table>\n",
              "</div>"
            ],
            "text/plain": [
              "            Adj Close                            ...     Volume                  \n",
              "                 AAPL         AMZN        GOOGL  ...       AAPL     AMZN    GOOGL\n",
              "Date                                             ...                             \n",
              "2020-01-02  74.444603  1898.010010  1368.680054  ...  135480400  4029000  1363900\n",
              "2020-01-03  73.720840  1874.969971  1361.520020  ...  146322800  3764400  1170400\n",
              "2020-01-06  74.308266  1902.880005  1397.810059  ...  118387200  4061800  2338400\n",
              "2020-01-07  73.958794  1906.859985  1395.109985  ...  108872000  4044900  1716500\n",
              "2020-01-08  75.148521  1891.969971  1405.040039  ...  132079200  3508000  1765700\n",
              "\n",
              "[5 rows x 18 columns]"
            ]
          },
          "metadata": {
            "tags": []
          },
          "execution_count": 23
        }
      ]
    }
  ]
}